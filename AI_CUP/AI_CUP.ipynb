{
  "nbformat": 4,
  "nbformat_minor": 0,
  "metadata": {
    "colab": {
      "name": "AI_CUP.ipynb",
      "provenance": [],
      "collapsed_sections": []
    },
    "kernelspec": {
      "name": "python3",
      "display_name": "Python 3"
    },
    "language_info": {
      "name": "python"
    },
    "accelerator": "GPU"
  },
  "cells": [
    {
      "cell_type": "code",
      "metadata": {
        "colab": {
          "base_uri": "https://localhost:8080/"
        },
        "id": "EZpH8phjllzU",
        "outputId": "867710e7-a9f9-4c65-83fc-3da3c4fc106a"
      },
      "source": [
        "from google.colab import drive\n",
        "drive.mount('/content/drive')"
      ],
      "execution_count": null,
      "outputs": [
        {
          "output_type": "stream",
          "text": [
            "Drive already mounted at /content/drive; to attempt to forcibly remount, call drive.mount(\"/content/drive\", force_remount=True).\n"
          ],
          "name": "stdout"
        }
      ]
    },
    {
      "cell_type": "code",
      "metadata": {
        "colab": {
          "base_uri": "https://localhost:8080/"
        },
        "id": "P1C6_Utkpt4A",
        "outputId": "710f6865-a73a-4859-e608-bcf5ad1105af"
      },
      "source": [
        "!nvidia-smi\n"
      ],
      "execution_count": null,
      "outputs": [
        {
          "output_type": "stream",
          "text": [
            "Wed Jun 16 13:06:12 2021       \n",
            "+-----------------------------------------------------------------------------+\n",
            "| NVIDIA-SMI 465.27       Driver Version: 460.32.03    CUDA Version: 11.2     |\n",
            "|-------------------------------+----------------------+----------------------+\n",
            "| GPU  Name        Persistence-M| Bus-Id        Disp.A | Volatile Uncorr. ECC |\n",
            "| Fan  Temp  Perf  Pwr:Usage/Cap|         Memory-Usage | GPU-Util  Compute M. |\n",
            "|                               |                      |               MIG M. |\n",
            "|===============================+======================+======================|\n",
            "|   0  Tesla T4            Off  | 00000000:00:04.0 Off |                    0 |\n",
            "| N/A   34C    P8     9W /  70W |      3MiB / 15109MiB |      0%      Default |\n",
            "|                               |                      |                  N/A |\n",
            "+-------------------------------+----------------------+----------------------+\n",
            "                                                                               \n",
            "+-----------------------------------------------------------------------------+\n",
            "| Processes:                                                                  |\n",
            "|  GPU   GI   CI        PID   Type   Process name                  GPU Memory |\n",
            "|        ID   ID                                                   Usage      |\n",
            "|=============================================================================|\n",
            "|  No running processes found                                                 |\n",
            "+-----------------------------------------------------------------------------+\n"
          ],
          "name": "stdout"
        }
      ]
    },
    {
      "cell_type": "code",
      "metadata": {
        "colab": {
          "base_uri": "https://localhost:8080/"
        },
        "id": "7lWeRFtemejI",
        "outputId": "3e79519e-0dde-4122-d25e-6d55841f47cf"
      },
      "source": [
        "!git clone https://github.com/MhLiao/DB.git\n"
      ],
      "execution_count": null,
      "outputs": [
        {
          "output_type": "stream",
          "text": [
            "Cloning into 'DB'...\n",
            "remote: Enumerating objects: 273, done.\u001b[K\n",
            "remote: Counting objects: 100% (33/33), done.\u001b[K\n",
            "remote: Compressing objects: 100% (27/27), done.\u001b[K\n",
            "remote: Total 273 (delta 10), reused 20 (delta 6), pack-reused 240\u001b[K\n",
            "Receiving objects: 100% (273/273), 145.60 KiB | 3.47 MiB/s, done.\n",
            "Resolving deltas: 100% (90/90), done.\n"
          ],
          "name": "stdout"
        }
      ]
    },
    {
      "cell_type": "code",
      "metadata": {
        "colab": {
          "base_uri": "https://localhost:8080/"
        },
        "id": "UJoP1-a8mfUn",
        "outputId": "e656396c-0f5a-4ec7-edc7-01869557bbe5"
      },
      "source": [
        "%cd /content/drive/MyDrive/DB\n"
      ],
      "execution_count": null,
      "outputs": [
        {
          "output_type": "stream",
          "text": [
            "/content/drive/MyDrive/DB\n"
          ],
          "name": "stdout"
        }
      ]
    },
    {
      "cell_type": "code",
      "metadata": {
        "colab": {
          "base_uri": "https://localhost:8080/"
        },
        "id": "RYwHYqBmmiDJ",
        "outputId": "b6a0ec5f-cfe7-44bb-af82-90ac01b49dea"
      },
      "source": [
        "!pip install -r requirement.txt\n"
      ],
      "execution_count": null,
      "outputs": [
        {
          "output_type": "stream",
          "text": [
            "Requirement already satisfied: pyyaml in /usr/local/lib/python3.7/dist-packages (from -r requirement.txt (line 1)) (3.13)\n",
            "Requirement already satisfied: tqdm in /usr/local/lib/python3.7/dist-packages (from -r requirement.txt (line 2)) (4.41.1)\n",
            "Requirement already satisfied: tensorboardX in /usr/local/lib/python3.7/dist-packages (from -r requirement.txt (line 3)) (2.2)\n",
            "Requirement already satisfied: opencv-python==4.1.2.30 in /usr/local/lib/python3.7/dist-packages (from -r requirement.txt (line 4)) (4.1.2.30)\n",
            "Requirement already satisfied: anyconfig in /usr/local/lib/python3.7/dist-packages (from -r requirement.txt (line 5)) (0.11.0)\n",
            "Requirement already satisfied: munch in /usr/local/lib/python3.7/dist-packages (from -r requirement.txt (line 6)) (2.5.0)\n",
            "Requirement already satisfied: scipy in /usr/local/lib/python3.7/dist-packages (from -r requirement.txt (line 7)) (1.4.1)\n",
            "Requirement already satisfied: sortedcontainers in /usr/local/lib/python3.7/dist-packages (from -r requirement.txt (line 8)) (2.4.0)\n",
            "Requirement already satisfied: shapely in /usr/local/lib/python3.7/dist-packages (from -r requirement.txt (line 9)) (1.7.1)\n",
            "Requirement already satisfied: pyclipper in /usr/local/lib/python3.7/dist-packages (from -r requirement.txt (line 10)) (1.2.1)\n",
            "Requirement already satisfied: gevent in /usr/local/lib/python3.7/dist-packages (from -r requirement.txt (line 11)) (21.1.2)\n",
            "Requirement already satisfied: gevent-websocket in /usr/local/lib/python3.7/dist-packages (from -r requirement.txt (line 12)) (0.10.1)\n",
            "Requirement already satisfied: flask in /usr/local/lib/python3.7/dist-packages (from -r requirement.txt (line 13)) (1.1.4)\n",
            "Requirement already satisfied: editdistance in /usr/local/lib/python3.7/dist-packages (from -r requirement.txt (line 14)) (0.5.3)\n",
            "Requirement already satisfied: scikit-image in /usr/local/lib/python3.7/dist-packages (from -r requirement.txt (line 15)) (0.16.2)\n",
            "Requirement already satisfied: imgaug==0.2.8 in /usr/local/lib/python3.7/dist-packages (from -r requirement.txt (line 16)) (0.2.8)\n",
            "Requirement already satisfied: protobuf>=3.8.0 in /usr/local/lib/python3.7/dist-packages (from tensorboardX->-r requirement.txt (line 3)) (3.12.4)\n",
            "Requirement already satisfied: numpy in /usr/local/lib/python3.7/dist-packages (from tensorboardX->-r requirement.txt (line 3)) (1.19.5)\n",
            "Requirement already satisfied: setuptools in /usr/local/lib/python3.7/dist-packages (from anyconfig->-r requirement.txt (line 5)) (57.0.0)\n",
            "Requirement already satisfied: six in /usr/local/lib/python3.7/dist-packages (from munch->-r requirement.txt (line 6)) (1.15.0)\n",
            "Requirement already satisfied: zope.interface in /usr/local/lib/python3.7/dist-packages (from gevent->-r requirement.txt (line 11)) (5.4.0)\n",
            "Requirement already satisfied: zope.event in /usr/local/lib/python3.7/dist-packages (from gevent->-r requirement.txt (line 11)) (4.5.0)\n",
            "Requirement already satisfied: greenlet<2.0,>=0.4.17; platform_python_implementation == \"CPython\" in /usr/local/lib/python3.7/dist-packages (from gevent->-r requirement.txt (line 11)) (1.1.0)\n",
            "Requirement already satisfied: Jinja2<3.0,>=2.10.1 in /usr/local/lib/python3.7/dist-packages (from flask->-r requirement.txt (line 13)) (2.11.3)\n",
            "Requirement already satisfied: itsdangerous<2.0,>=0.24 in /usr/local/lib/python3.7/dist-packages (from flask->-r requirement.txt (line 13)) (1.1.0)\n",
            "Requirement already satisfied: Werkzeug<2.0,>=0.15 in /usr/local/lib/python3.7/dist-packages (from flask->-r requirement.txt (line 13)) (1.0.1)\n",
            "Requirement already satisfied: click<8.0,>=5.1 in /usr/local/lib/python3.7/dist-packages (from flask->-r requirement.txt (line 13)) (7.1.2)\n",
            "Requirement already satisfied: pillow>=4.3.0 in /usr/local/lib/python3.7/dist-packages (from scikit-image->-r requirement.txt (line 15)) (7.1.2)\n",
            "Requirement already satisfied: PyWavelets>=0.4.0 in /usr/local/lib/python3.7/dist-packages (from scikit-image->-r requirement.txt (line 15)) (1.1.1)\n",
            "Requirement already satisfied: matplotlib!=3.0.0,>=2.0.0 in /usr/local/lib/python3.7/dist-packages (from scikit-image->-r requirement.txt (line 15)) (3.2.2)\n",
            "Requirement already satisfied: networkx>=2.0 in /usr/local/lib/python3.7/dist-packages (from scikit-image->-r requirement.txt (line 15)) (2.5.1)\n",
            "Requirement already satisfied: imageio>=2.3.0 in /usr/local/lib/python3.7/dist-packages (from scikit-image->-r requirement.txt (line 15)) (2.4.1)\n",
            "Requirement already satisfied: MarkupSafe>=0.23 in /usr/local/lib/python3.7/dist-packages (from Jinja2<3.0,>=2.10.1->flask->-r requirement.txt (line 13)) (2.0.1)\n",
            "Requirement already satisfied: kiwisolver>=1.0.1 in /usr/local/lib/python3.7/dist-packages (from matplotlib!=3.0.0,>=2.0.0->scikit-image->-r requirement.txt (line 15)) (1.3.1)\n",
            "Requirement already satisfied: pyparsing!=2.0.4,!=2.1.2,!=2.1.6,>=2.0.1 in /usr/local/lib/python3.7/dist-packages (from matplotlib!=3.0.0,>=2.0.0->scikit-image->-r requirement.txt (line 15)) (2.4.7)\n",
            "Requirement already satisfied: python-dateutil>=2.1 in /usr/local/lib/python3.7/dist-packages (from matplotlib!=3.0.0,>=2.0.0->scikit-image->-r requirement.txt (line 15)) (2.8.1)\n",
            "Requirement already satisfied: cycler>=0.10 in /usr/local/lib/python3.7/dist-packages (from matplotlib!=3.0.0,>=2.0.0->scikit-image->-r requirement.txt (line 15)) (0.10.0)\n",
            "Requirement already satisfied: decorator<5,>=4.3 in /usr/local/lib/python3.7/dist-packages (from networkx>=2.0->scikit-image->-r requirement.txt (line 15)) (4.4.2)\n"
          ],
          "name": "stdout"
        }
      ]
    },
    {
      "cell_type": "code",
      "metadata": {
        "colab": {
          "base_uri": "https://localhost:8080/"
        },
        "id": "i2gpSVMYmjjX",
        "outputId": "8d8719e4-7dc9-46af-e0bf-f7a70d19ae30"
      },
      "source": [
        "!pip install torch\n",
        "!pip install torchvision"
      ],
      "execution_count": null,
      "outputs": [
        {
          "output_type": "stream",
          "text": [
            "Requirement already satisfied: torch in /usr/local/lib/python3.7/dist-packages (1.8.1+cu101)\n",
            "Requirement already satisfied: numpy in /usr/local/lib/python3.7/dist-packages (from torch) (1.19.5)\n",
            "Requirement already satisfied: typing-extensions in /usr/local/lib/python3.7/dist-packages (from torch) (3.7.4.3)\n",
            "Requirement already satisfied: torchvision in /usr/local/lib/python3.7/dist-packages (0.9.1+cu101)\n",
            "Requirement already satisfied: numpy in /usr/local/lib/python3.7/dist-packages (from torchvision) (1.19.5)\n",
            "Requirement already satisfied: torch==1.8.1 in /usr/local/lib/python3.7/dist-packages (from torchvision) (1.8.1+cu101)\n",
            "Requirement already satisfied: pillow>=4.1.1 in /usr/local/lib/python3.7/dist-packages (from torchvision) (7.1.2)\n",
            "Requirement already satisfied: typing-extensions in /usr/local/lib/python3.7/dist-packages (from torch==1.8.1->torchvision) (3.7.4.3)\n"
          ],
          "name": "stdout"
        }
      ]
    },
    {
      "cell_type": "code",
      "metadata": {
        "colab": {
          "base_uri": "https://localhost:8080/"
        },
        "id": "J0cr5RBYmmT3",
        "outputId": "e4d07e78-d3f0-4bfb-ebda-50cd59861d0a"
      },
      "source": [
        "import torch\n",
        "torch.cuda.is_available()"
      ],
      "execution_count": null,
      "outputs": [
        {
          "output_type": "execute_result",
          "data": {
            "text/plain": [
              "True"
            ]
          },
          "metadata": {
            "tags": []
          },
          "execution_count": 38
        }
      ]
    },
    {
      "cell_type": "code",
      "metadata": {
        "colab": {
          "base_uri": "https://localhost:8080/"
        },
        "id": "cwmlbnOlmvWQ",
        "outputId": "2e632ec8-eefd-4f13-94bc-e3f974e0bacd"
      },
      "source": [
        "!ls /usr/local/ # 查看已有的 cuda 版本\n",
        "!export CUDA_HOME=\"/usr/local/cuda-10.1\""
      ],
      "execution_count": null,
      "outputs": [
        {
          "output_type": "stream",
          "text": [
            "bin\t   cuda-10.1  games\t\t  lib\t       man\t  share\n",
            "cuda\t   cuda-11.0  _gcs_config_ops.so  LICENSE.txt  sbin\t  src\n",
            "cuda-10.0  etc\t      include\t\t  licensing    setup.cfg  xgboost\n"
          ],
          "name": "stdout"
        }
      ]
    },
    {
      "cell_type": "code",
      "metadata": {
        "colab": {
          "base_uri": "https://localhost:8080/"
        },
        "id": "-QvAJZg6nEjA",
        "outputId": "fa32088e-244c-4e9d-afff-197cbaa47c32"
      },
      "source": [
        "%cd /content/drive/MyDrive/DB/assets/ops/dcn\n",
        "!python setup.py build_ext --inplace"
      ],
      "execution_count": null,
      "outputs": [
        {
          "output_type": "stream",
          "text": [
            "/content/drive/MyDrive/DB/assets/ops/dcn\n",
            "running build_ext\n",
            "/usr/local/lib/python3.7/dist-packages/torch/utils/cpp_extension.py:369: UserWarning: Attempted to use ninja as the BuildExtension backend but we could not find ninja.. Falling back to using the slow distutils backend.\n",
            "  warnings.warn(msg.format('we could not find ninja.'))\n",
            "building 'deform_conv_cuda' extension\n",
            "x86_64-linux-gnu-gcc -pthread -Wno-unused-result -Wsign-compare -DNDEBUG -g -fwrapv -O2 -Wall -g -fdebug-prefix-map=/build/python3.7-OGiuun/python3.7-3.7.10=. -fstack-protector-strong -Wformat -Werror=format-security -g -fdebug-prefix-map=/build/python3.7-OGiuun/python3.7-3.7.10=. -fstack-protector-strong -Wformat -Werror=format-security -Wdate-time -D_FORTIFY_SOURCE=2 -fPIC -I/usr/local/lib/python3.7/dist-packages/torch/include -I/usr/local/lib/python3.7/dist-packages/torch/include/torch/csrc/api/include -I/usr/local/lib/python3.7/dist-packages/torch/include/TH -I/usr/local/lib/python3.7/dist-packages/torch/include/THC -I/usr/local/cuda/include -I/usr/include/python3.7m -c src/deform_conv_cuda.cpp -o build/temp.linux-x86_64-3.7/src/deform_conv_cuda.o -DTORCH_API_INCLUDE_EXTENSION_H -DPYBIND11_COMPILER_TYPE=\"_gcc\" -DPYBIND11_STDLIB=\"_libstdcpp\" -DPYBIND11_BUILD_ABI=\"_cxxabi1011\" -DTORCH_EXTENSION_NAME=deform_conv_cuda -D_GLIBCXX_USE_CXX11_ABI=0 -std=c++14\n",
            "In file included from \u001b[01m\u001b[K/usr/local/lib/python3.7/dist-packages/torch/include/ATen/Parallel.h:140:0\u001b[m\u001b[K,\n",
            "                 from \u001b[01m\u001b[K/usr/local/lib/python3.7/dist-packages/torch/include/torch/csrc/api/include/torch/utils.h:3\u001b[m\u001b[K,\n",
            "                 from \u001b[01m\u001b[K/usr/local/lib/python3.7/dist-packages/torch/include/torch/csrc/api/include/torch/nn/cloneable.h:5\u001b[m\u001b[K,\n",
            "                 from \u001b[01m\u001b[K/usr/local/lib/python3.7/dist-packages/torch/include/torch/csrc/api/include/torch/nn.h:3\u001b[m\u001b[K,\n",
            "                 from \u001b[01m\u001b[K/usr/local/lib/python3.7/dist-packages/torch/include/torch/csrc/api/include/torch/all.h:13\u001b[m\u001b[K,\n",
            "                 from \u001b[01m\u001b[K/usr/local/lib/python3.7/dist-packages/torch/include/torch/extension.h:4\u001b[m\u001b[K,\n",
            "                 from \u001b[01m\u001b[Ksrc/deform_conv_cuda.cpp:4\u001b[m\u001b[K:\n",
            "\u001b[01m\u001b[K/usr/local/lib/python3.7/dist-packages/torch/include/ATen/ParallelOpenMP.h:83:0:\u001b[m\u001b[K \u001b[01;35m\u001b[Kwarning: \u001b[m\u001b[Kignoring #pragma omp parallel [\u001b[01;35m\u001b[K-Wunknown-pragmas\u001b[m\u001b[K]\n",
            " #pragma omp parallel for if ((end - begin) >= grain_size)\n",
            " \n",
            "\u001b[01m\u001b[Ksrc/deform_conv_cuda.cpp:\u001b[m\u001b[K In function ‘\u001b[01m\u001b[Kvoid shape_check(at::Tensor, at::Tensor, at::Tensor*, at::Tensor, int, int, int, int, int, int, int, int, int, int)\u001b[m\u001b[K’:\n",
            "\u001b[01m\u001b[Ksrc/deform_conv_cuda.cpp:65:3:\u001b[m\u001b[K \u001b[01;31m\u001b[Kerror: \u001b[m\u001b[K‘\u001b[01m\u001b[KAT_CHECK\u001b[m\u001b[K’ was not declared in this scope\n",
            "   \u001b[01;31m\u001b[KAT_CHECK\u001b[m\u001b[K(weight.ndimension() == 4,\n",
            "   \u001b[01;31m\u001b[K^~~~~~~~\u001b[m\u001b[K\n",
            "\u001b[01m\u001b[Ksrc/deform_conv_cuda.cpp:65:3:\u001b[m\u001b[K \u001b[01;36m\u001b[Knote: \u001b[m\u001b[Ksuggested alternative: ‘\u001b[01m\u001b[KDCHECK\u001b[m\u001b[K’\n",
            "   \u001b[01;36m\u001b[KAT_CHECK\u001b[m\u001b[K(weight.ndimension() == 4,\n",
            "   \u001b[01;36m\u001b[K^~~~~~~~\u001b[m\u001b[K\n",
            "   \u001b[32m\u001b[KDCHECK\u001b[m\u001b[K\n",
            "\u001b[01m\u001b[Ksrc/deform_conv_cuda.cpp:\u001b[m\u001b[K In function ‘\u001b[01m\u001b[Kint deform_conv_forward_cuda(at::Tensor, at::Tensor, at::Tensor, at::Tensor, at::Tensor, at::Tensor, int, int, int, int, int, int, int, int, int, int, int)\u001b[m\u001b[K’:\n",
            "\u001b[01m\u001b[Ksrc/deform_conv_cuda.cpp:192:3:\u001b[m\u001b[K \u001b[01;31m\u001b[Kerror: \u001b[m\u001b[K‘\u001b[01m\u001b[KAT_CHECK\u001b[m\u001b[K’ was not declared in this scope\n",
            "   \u001b[01;31m\u001b[KAT_CHECK\u001b[m\u001b[K((offset.size(0) == batchSize), \"invalid batch size of offset\");\n",
            "   \u001b[01;31m\u001b[K^~~~~~~~\u001b[m\u001b[K\n",
            "\u001b[01m\u001b[Ksrc/deform_conv_cuda.cpp:192:3:\u001b[m\u001b[K \u001b[01;36m\u001b[Knote: \u001b[m\u001b[Ksuggested alternative: ‘\u001b[01m\u001b[KDCHECK\u001b[m\u001b[K’\n",
            "   \u001b[01;36m\u001b[KAT_CHECK\u001b[m\u001b[K((offset.size(0) == batchSize), \"invalid batch size of offset\");\n",
            "   \u001b[01;36m\u001b[K^~~~~~~~\u001b[m\u001b[K\n",
            "   \u001b[32m\u001b[KDCHECK\u001b[m\u001b[K\n",
            "\u001b[01m\u001b[Ksrc/deform_conv_cuda.cpp:\u001b[m\u001b[K In function ‘\u001b[01m\u001b[Kint deform_conv_backward_input_cuda(at::Tensor, at::Tensor, at::Tensor, at::Tensor, at::Tensor, at::Tensor, at::Tensor, int, int, int, int, int, int, int, int, int, int, int)\u001b[m\u001b[K’:\n",
            "\u001b[01m\u001b[Ksrc/deform_conv_cuda.cpp:298:3:\u001b[m\u001b[K \u001b[01;31m\u001b[Kerror: \u001b[m\u001b[K‘\u001b[01m\u001b[KAT_CHECK\u001b[m\u001b[K’ was not declared in this scope\n",
            "   \u001b[01;31m\u001b[KAT_CHECK\u001b[m\u001b[K((offset.size(0) == batchSize), 3, \"invalid batch size of offset\");\n",
            "   \u001b[01;31m\u001b[K^~~~~~~~\u001b[m\u001b[K\n",
            "\u001b[01m\u001b[Ksrc/deform_conv_cuda.cpp:298:3:\u001b[m\u001b[K \u001b[01;36m\u001b[Knote: \u001b[m\u001b[Ksuggested alternative: ‘\u001b[01m\u001b[KDCHECK\u001b[m\u001b[K’\n",
            "   \u001b[01;36m\u001b[KAT_CHECK\u001b[m\u001b[K((offset.size(0) == batchSize), 3, \"invalid batch size of offset\");\n",
            "   \u001b[01;36m\u001b[K^~~~~~~~\u001b[m\u001b[K\n",
            "   \u001b[32m\u001b[KDCHECK\u001b[m\u001b[K\n",
            "\u001b[01m\u001b[Ksrc/deform_conv_cuda.cpp:\u001b[m\u001b[K In function ‘\u001b[01m\u001b[Kint deform_conv_backward_parameters_cuda(at::Tensor, at::Tensor, at::Tensor, at::Tensor, at::Tensor, at::Tensor, int, int, int, int, int, int, int, int, int, int, float, int)\u001b[m\u001b[K’:\n",
            "\u001b[01m\u001b[Ksrc/deform_conv_cuda.cpp:413:3:\u001b[m\u001b[K \u001b[01;31m\u001b[Kerror: \u001b[m\u001b[K‘\u001b[01m\u001b[KAT_CHECK\u001b[m\u001b[K’ was not declared in this scope\n",
            "   \u001b[01;31m\u001b[KAT_CHECK\u001b[m\u001b[K((offset.size(0) == batchSize), \"invalid batch size of offset\");\n",
            "   \u001b[01;31m\u001b[K^~~~~~~~\u001b[m\u001b[K\n",
            "\u001b[01m\u001b[Ksrc/deform_conv_cuda.cpp:413:3:\u001b[m\u001b[K \u001b[01;36m\u001b[Knote: \u001b[m\u001b[Ksuggested alternative: ‘\u001b[01m\u001b[KDCHECK\u001b[m\u001b[K’\n",
            "   \u001b[01;36m\u001b[KAT_CHECK\u001b[m\u001b[K((offset.size(0) == batchSize), \"invalid batch size of offset\");\n",
            "   \u001b[01;36m\u001b[K^~~~~~~~\u001b[m\u001b[K\n",
            "   \u001b[32m\u001b[KDCHECK\u001b[m\u001b[K\n",
            "\u001b[01m\u001b[Ksrc/deform_conv_cuda.cpp:\u001b[m\u001b[K In function ‘\u001b[01m\u001b[Kvoid modulated_deform_conv_cuda_forward(at::Tensor, at::Tensor, at::Tensor, at::Tensor, at::Tensor, at::Tensor, at::Tensor, at::Tensor, int, int, int, int, int, int, int, int, int, int, bool)\u001b[m\u001b[K’:\n",
            "\u001b[01m\u001b[Ksrc/deform_conv_cuda.cpp:493:3:\u001b[m\u001b[K \u001b[01;31m\u001b[Kerror: \u001b[m\u001b[K‘\u001b[01m\u001b[KAT_CHECK\u001b[m\u001b[K’ was not declared in this scope\n",
            "   \u001b[01;31m\u001b[KAT_CHECK\u001b[m\u001b[K(input.is_contiguous(), \"input tensor has to be contiguous\");\n",
            "   \u001b[01;31m\u001b[K^~~~~~~~\u001b[m\u001b[K\n",
            "\u001b[01m\u001b[Ksrc/deform_conv_cuda.cpp:493:3:\u001b[m\u001b[K \u001b[01;36m\u001b[Knote: \u001b[m\u001b[Ksuggested alternative: ‘\u001b[01m\u001b[KDCHECK\u001b[m\u001b[K’\n",
            "   \u001b[01;36m\u001b[KAT_CHECK\u001b[m\u001b[K(input.is_contiguous(), \"input tensor has to be contiguous\");\n",
            "   \u001b[01;36m\u001b[K^~~~~~~~\u001b[m\u001b[K\n",
            "   \u001b[32m\u001b[KDCHECK\u001b[m\u001b[K\n",
            "\u001b[01m\u001b[Ksrc/deform_conv_cuda.cpp:\u001b[m\u001b[K In function ‘\u001b[01m\u001b[Kvoid modulated_deform_conv_cuda_backward(at::Tensor, at::Tensor, at::Tensor, at::Tensor, at::Tensor, at::Tensor, at::Tensor, at::Tensor, at::Tensor, at::Tensor, at::Tensor, at::Tensor, at::Tensor, int, int, int, int, int, int, int, int, int, int, bool)\u001b[m\u001b[K’:\n",
            "\u001b[01m\u001b[Ksrc/deform_conv_cuda.cpp:574:3:\u001b[m\u001b[K \u001b[01;31m\u001b[Kerror: \u001b[m\u001b[K‘\u001b[01m\u001b[KAT_CHECK\u001b[m\u001b[K’ was not declared in this scope\n",
            "   \u001b[01;31m\u001b[KAT_CHECK\u001b[m\u001b[K(input.is_contiguous(), \"input tensor has to be contiguous\");\n",
            "   \u001b[01;31m\u001b[K^~~~~~~~\u001b[m\u001b[K\n",
            "\u001b[01m\u001b[Ksrc/deform_conv_cuda.cpp:574:3:\u001b[m\u001b[K \u001b[01;36m\u001b[Knote: \u001b[m\u001b[Ksuggested alternative: ‘\u001b[01m\u001b[KDCHECK\u001b[m\u001b[K’\n",
            "   \u001b[01;36m\u001b[KAT_CHECK\u001b[m\u001b[K(input.is_contiguous(), \"input tensor has to be contiguous\");\n",
            "   \u001b[01;36m\u001b[K^~~~~~~~\u001b[m\u001b[K\n",
            "   \u001b[32m\u001b[KDCHECK\u001b[m\u001b[K\n",
            "error: command 'x86_64-linux-gnu-gcc' failed with exit status 1\n"
          ],
          "name": "stdout"
        }
      ]
    },
    {
      "cell_type": "code",
      "metadata": {
        "colab": {
          "base_uri": "https://localhost:8080/"
        },
        "id": "0JOGC9_01UXK",
        "outputId": "0d1011bd-6a07-4e4d-8c17-0a505ca78363"
      },
      "source": [
        "%cd /content/drive/MyDrive/DB/\n",
        "!pwd"
      ],
      "execution_count": null,
      "outputs": [
        {
          "output_type": "stream",
          "text": [
            "/content/drive/MyDrive/DB\n",
            "/content/drive/MyDrive/DB\n"
          ],
          "name": "stdout"
        }
      ]
    },
    {
      "cell_type": "code",
      "metadata": {
        "id": "EYBQ5Fq5yz87"
      },
      "source": [
        "#!python json2txt.py --input_json_dir /content/drive/MyDrive/DB/datasets/AICUP1/train_images --output_txt_dir /content/drive/MyDrive/DB/datasets/AICUP1/train_gts --image_list /content/drive/MyDrive/DB/datasets/AICUP1/train_list.txt"
      ],
      "execution_count": null,
      "outputs": []
    },
    {
      "cell_type": "code",
      "metadata": {
        "id": "NoqhnmNtEpw9"
      },
      "source": [
        ""
      ],
      "execution_count": null,
      "outputs": []
    },
    {
      "cell_type": "code",
      "metadata": {
        "id": "aS_lgjfQyyOm",
        "colab": {
          "base_uri": "https://localhost:8080/"
        },
        "outputId": "ffb2acc5-e1ad-4869-bb9c-421c33dda90e"
      },
      "source": [
        "!CUDA_VISIBLE_DEVICES=0 python train.py experiments/seg_detector/AICUP_resnet50_deform_thre.yaml --num_gpus 1 "
      ],
      "execution_count": null,
      "outputs": [
        {
          "output_type": "stream",
          "text": [
            "/usr/local/lib/python3.7/dist-packages/anyconfig/template/jinja2.py:200: UserWarning: Failed to compile ''/content/drive/MyDrive/DB/experiments/seg_detector/AICUP_resnet50_deform_thre.yaml''. It may not be a template.\n",
            ", exc=AICUP_resnet50_deform_thre.yaml\n",
            "  warnings.warn(f\"Failed to compile '{tmpl_s!r}'. It may not be \"\n",
            "Traceback (most recent call last):\n",
            "  File \"train.py\", line 70, in <module>\n",
            "    main()\n",
            "  File \"train.py\", line 60, in main\n",
            "    experiment_args = conf.compile(conf.load(args['exp']))['Experiment']\n",
            "  File \"/content/drive/MyDrive/DB/concern/config.py\", line 13, in load\n",
            "    conf = anyconfig.load(conf)\n",
            "  File \"/usr/local/lib/python3.7/dist-packages/anyconfig/api/_load.py\", line 291, in load\n",
            "    **options)\n",
            "  File \"/usr/local/lib/python3.7/dist-packages/anyconfig/api/_load.py\", line 157, in single_load\n",
            "    ac_context=ac_context, **options)\n",
            "  File \"/usr/local/lib/python3.7/dist-packages/anyconfig/api/_load.py\", line 97, in _single_load\n",
            "    return psr.load(ioi, **options)\n",
            "  File \"/usr/local/lib/python3.7/dist-packages/anyconfig/backend/base/loaders.py\", line 201, in load\n",
            "    cnf = self.load_from_path(ioi.path, container, **options)\n",
            "  File \"/usr/local/lib/python3.7/dist-packages/anyconfig/backend/base/loaders.py\", line 275, in load_from_path\n",
            "    with self.ropen(filepath) as inp:\n",
            "  File \"/usr/local/lib/python3.7/dist-packages/anyconfig/backend/base/mixins.py\", line 26, in ropen\n",
            "    return open(filepath, cls._open_flags[0], **kwargs)\n",
            "FileNotFoundError: [Errno 2] No such file or directory: '/content/drive/MyDrive/DB/experiments/seg_detector/AICUP_resnet50_deform_thre.yaml'\n"
          ],
          "name": "stdout"
        }
      ]
    },
    {
      "cell_type": "code",
      "metadata": {
        "id": "FcFg4C-o3sWJ"
      },
      "source": [
        ""
      ],
      "execution_count": null,
      "outputs": []
    }
  ]
}